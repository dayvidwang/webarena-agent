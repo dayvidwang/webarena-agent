{
 "cells": [
  {
   "cell_type": "code",
   "execution_count": 13,
   "metadata": {},
   "outputs": [],
   "source": [
    "# open config_files/test_annotated.json, for each task, if [\"eval\"][\"reference_answer_raw_annotation\"] is \"N/A\", set sql_evaluatable to False\n",
    "\n",
    "import json\n",
    "\n",
    "with open('config_files/test_annotated.json', 'r') as file:\n",
    "    data = json.load(file)\n",
    "\n"
   ]
  },
  {
   "cell_type": "code",
   "execution_count": 11,
   "metadata": {},
   "outputs": [
    {
     "name": "stdout",
     "output_type": "stream",
     "text": [
      "Total SQL evaluatable tasks: 278\n",
      "\n",
      "Split by task genre:\n",
      "Navigation:\n",
      "  Evaluatable: 0\n",
      "  Not evaluatable: 233\n",
      "Modification:\n",
      "  Evaluatable: 153\n",
      "  Not evaluatable: 113\n",
      "Information:\n",
      "  Evaluatable: 125\n",
      "  Not evaluatable: 188\n"
     ]
    }
   ],
   "source": [
    "# count how many are sql_evaluatable, also print split by navigation and modification and information retrieval\n",
    "# Count SQL evaluatable tasks and split by task genre\n",
    "sql_evaluatable_count = 0\n",
    "genre_counts = {\n",
    "    \"Navigation\": {\"evaluatable\": 0, \"not_evaluatable\": 0},\n",
    "    \"Modification\": {\"evaluatable\": 0, \"not_evaluatable\": 0},\n",
    "    \"Information\": {\"evaluatable\": 0, \"not_evaluatable\": 0}\n",
    "}\n",
    "\n",
    "for task in data:\n",
    "    if task.get('sql_evaluatable', False):\n",
    "        sql_evaluatable_count += 1\n",
    "        if 'task_genre' in task:\n",
    "            genre_counts[task['task_genre']]['evaluatable'] += 1\n",
    "    else:\n",
    "        if 'task_genre' in task:\n",
    "            genre_counts[task['task_genre']]['not_evaluatable'] += 1\n",
    "\n",
    "print(f\"Total SQL evaluatable tasks: {sql_evaluatable_count}\")\n",
    "print(\"\\nSplit by task genre:\")\n",
    "for genre, counts in genre_counts.items():\n",
    "    print(f\"{genre}:\")\n",
    "    print(f\"  Evaluatable: {counts['evaluatable']}\")\n",
    "    print(f\"  Not evaluatable: {counts['not_evaluatable']}\")\n",
    "\n",
    "\n",
    "\n",
    "\n",
    "# also present split across all taskssql evaluatable and not evaluatable\n"
   ]
  },
  {
   "cell_type": "code",
   "execution_count": 12,
   "metadata": {},
   "outputs": [
    {
     "name": "stdout",
     "output_type": "stream",
     "text": [
      "Reddit environment:\n",
      "  Total tasks: 106\n",
      "  SQL evaluatable tasks: 37\n",
      "  Percentage evaluatable: 34.91%\n",
      "Evaluatable Reddit task IDs saved to reddit_evaluatable.json\n"
     ]
    }
   ],
   "source": [
    "import json\n",
    "# Count SQL evaluatable tasks in the Reddit environment and dump task IDs to JSON\n",
    "reddit_evaluatable_count = 0\n",
    "reddit_total_count = 0\n",
    "reddit_evaluatable_ids = []\n",
    "for task in data:\n",
    "    if task[\"sites\"] == [\"reddit\"]:\n",
    "        reddit_total_count += 1\n",
    "        if task.get('sql_evaluatable', False):\n",
    "            reddit_evaluatable_count += 1\n",
    "            reddit_evaluatable_ids.append(task['task_id'])\n",
    "\n",
    "print(\"Reddit environment:\")\n",
    "print(f\"  Total tasks: {reddit_total_count}\")\n",
    "print(f\"  SQL evaluatable tasks: {reddit_evaluatable_count}\")\n",
    "print(f\"  Percentage evaluatable: {(reddit_evaluatable_count / reddit_total_count * 100):.2f}%\")\n",
    "\n",
    "# Dump evaluatable Reddit task IDs to JSON\n",
    "\n",
    "with open('reddit_evaluatable.json', 'w') as f:\n",
    "    json.dump(reddit_evaluatable_ids, f)\n",
    "\n",
    "print(\"Evaluatable Reddit task IDs saved to reddit_evaluatable.json\")\n"
   ]
  },
  {
   "cell_type": "code",
   "execution_count": 11,
   "metadata": {},
   "outputs": [
    {
     "name": "stdout",
     "output_type": "stream",
     "text": [
      "Breakdown of tasks for each site:\n",
      "\n",
      "('shopping_admin',):\n",
      "  Total tasks: 182\n",
      "  SQL evaluatable tasks: 96\n",
      "  Non-evaluatable tasks: 86\n",
      "  Percentage evaluatable: 52.75%\n",
      "\n",
      "('map',):\n",
      "  Total tasks: 109\n",
      "  SQL evaluatable tasks: 0\n",
      "  Non-evaluatable tasks: 109\n",
      "  Percentage evaluatable: 0.00%\n",
      "\n",
      "('shopping',):\n",
      "  Total tasks: 187\n",
      "  SQL evaluatable tasks: 64\n",
      "  Non-evaluatable tasks: 123\n",
      "  Percentage evaluatable: 34.22%\n",
      "\n",
      "('reddit',):\n",
      "  Total tasks: 106\n",
      "  SQL evaluatable tasks: 37\n",
      "  Non-evaluatable tasks: 69\n",
      "  Percentage evaluatable: 34.91%\n",
      "\n",
      "('gitlab',):\n",
      "  Total tasks: 180\n",
      "  SQL evaluatable tasks: 85\n",
      "  Non-evaluatable tasks: 95\n",
      "  Percentage evaluatable: 47.22%\n",
      "\n",
      "('map', 'wikipedia'):\n",
      "  Total tasks: 1\n",
      "  SQL evaluatable tasks: 0\n",
      "  Non-evaluatable tasks: 1\n",
      "  Percentage evaluatable: 0.00%\n",
      "\n",
      "('wikipedia', 'map'):\n",
      "  Total tasks: 16\n",
      "  SQL evaluatable tasks: 0\n",
      "  Non-evaluatable tasks: 16\n",
      "  Percentage evaluatable: 0.00%\n",
      "\n",
      "('gitlab', 'reddit'):\n",
      "  Total tasks: 10\n",
      "  SQL evaluatable tasks: 0\n",
      "  Non-evaluatable tasks: 10\n",
      "  Percentage evaluatable: 0.00%\n",
      "\n",
      "('gitlab', 'wikipedia'):\n",
      "  Total tasks: 6\n",
      "  SQL evaluatable tasks: 0\n",
      "  Non-evaluatable tasks: 6\n",
      "  Percentage evaluatable: 0.00%\n",
      "\n",
      "('shopping', 'reddit'):\n",
      "  Total tasks: 5\n",
      "  SQL evaluatable tasks: 0\n",
      "  Non-evaluatable tasks: 5\n",
      "  Percentage evaluatable: 0.00%\n",
      "\n",
      "('reddit', 'gitlab'):\n",
      "  Total tasks: 8\n",
      "  SQL evaluatable tasks: 0\n",
      "  Non-evaluatable tasks: 8\n",
      "  Percentage evaluatable: 0.00%\n",
      "\n",
      "('map', 'shopping_admin'):\n",
      "  Total tasks: 2\n",
      "  SQL evaluatable tasks: 0\n",
      "  Non-evaluatable tasks: 2\n",
      "  Percentage evaluatable: 0.00%\n"
     ]
    }
   ],
   "source": [
    "# Count tasks for each site\n",
    "site_counts = {}\n",
    "\n",
    "for task in data:\n",
    "    sites = tuple(task[\"sites\"])\n",
    "    if sites not in site_counts:\n",
    "        site_counts[sites] = {\n",
    "            \"total\": 0,\n",
    "            \"evaluatable\": 0,\n",
    "            \"not_evaluatable\": 0\n",
    "        }\n",
    "    site_counts[sites][\"total\"] += 1\n",
    "    if task.get('sql_evaluatable', False):\n",
    "        site_counts[sites][\"evaluatable\"] += 1\n",
    "    else:\n",
    "        site_counts[sites][\"not_evaluatable\"] += 1\n",
    "\n",
    "print(\"Breakdown of tasks for each site:\")\n",
    "for sites, counts in site_counts.items():\n",
    "    print(f\"\\n{sites}:\")\n",
    "    print(f\"  Total tasks: {counts['total']}\")\n",
    "    print(f\"  SQL evaluatable tasks: {counts['evaluatable']}\")\n",
    "    print(f\"  Non-evaluatable tasks: {counts['not_evaluatable']}\")\n",
    "    print(f\"  Percentage evaluatable: {(counts['evaluatable'] / counts['total'] * 100):.2f}%\")\n"
   ]
  },
  {
   "cell_type": "code",
   "execution_count": 16,
   "metadata": {},
   "outputs": [
    {
     "name": "stdout",
     "output_type": "stream",
     "text": [
      "Dumped 37 SQL-evaluatable Reddit tasks to reddit_evaluatable.json\n"
     ]
    }
   ],
   "source": [
    "# Collect and dump all the sql-evaluatable reddit tasks\n",
    "reddit_evaluatable_tasks = []\n",
    "for task in data:\n",
    "    if task[\"sites\"] == [\"reddit\"] and task.get('sql_evaluatable', False):\n",
    "        reddit_evaluatable_tasks.append(task)\n",
    "\n",
    "# Dump the collected tasks to reddit_evaluatable.json\n",
    "with open('reddit_evaluatable.json', 'w') as f:\n",
    "    json.dump(reddit_evaluatable_tasks, f, indent=2)\n",
    "\n",
    "print(f\"Dumped {len(reddit_evaluatable_tasks)} SQL-evaluatable Reddit tasks to reddit_evaluatable.json\")\n"
   ]
  },
  {
   "cell_type": "code",
   "execution_count": null,
   "metadata": {},
   "outputs": [],
   "source": []
  }
 ],
 "metadata": {
  "kernelspec": {
   "display_name": "webarena",
   "language": "python",
   "name": "python3"
  },
  "language_info": {
   "codemirror_mode": {
    "name": "ipython",
    "version": 3
   },
   "file_extension": ".py",
   "mimetype": "text/x-python",
   "name": "python",
   "nbconvert_exporter": "python",
   "pygments_lexer": "ipython3",
   "version": "3.11.8"
  }
 },
 "nbformat": 4,
 "nbformat_minor": 2
}
